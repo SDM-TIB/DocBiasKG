{
 "cells": [
  {
   "cell_type": "code",
   "execution_count": 19,
   "metadata": {},
   "outputs": [
    {
     "name": "stdout",
     "output_type": "stream",
     "text": [
      "             NewsID  news_cred  weightedConstraintsRule3  \\\n",
      "0  BuzzFeed_Fake_12      0.530                     0.512   \n",
      "1  BuzzFeed_Fake_15      0.946                     0.512   \n",
      "2  BuzzFeed_Fake_27      0.850                     0.512   \n",
      "3  BuzzFeed_Fake_28      0.855                     0.512   \n",
      "4  BuzzFeed_Fake_31      0.865                     0.512   \n",
      "\n",
      "   weightedConstraintsRule4  weightedConstraintsRule5  \\\n",
      "0                     0.522                     8.390   \n",
      "1                     0.522                   116.621   \n",
      "2                     0.522                     7.551   \n",
      "3                     0.522                    11.746   \n",
      "4                     0.522                   137.596   \n",
      "\n",
      "   weightedConstraintsRule6  UserConstraintPercentage  \\\n",
      "0                     7.940                 94.045151   \n",
      "1                   110.366                 99.546533   \n",
      "2                     7.146                 93.426991   \n",
      "3                    11.116                 95.672916   \n",
      "4                   130.216                 99.615393   \n",
      "\n",
      "   PublisherConstraintPercentage  \n",
      "0                       5.954849  \n",
      "1                       0.453467  \n",
      "2                       6.573009  \n",
      "3                       4.327084  \n",
      "4                       0.384607  \n"
     ]
    }
   ],
   "source": [
    "import pandas as pd\n",
    "import os\n",
    "\n",
    "publisher_pos_constraints = pd.read_csv(os.getcwd() + \"/data/constraintsRule3.csv\")\n",
    "publisher_neg_constraints = pd.read_csv(os.getcwd() + \"/data/constraintsRule4.csv\")\n",
    "user_neg_constraints = pd.read_csv(os.getcwd() + \"/data/constraintsRule5.csv\")\n",
    "user_pos_constraints = pd.read_csv(os.getcwd() + \"/data/constraintsRule6.csv\")\n",
    "\n",
    "# Merge dataframes\n",
    "#new_df = pd.concat(publisher_neg_constraints, publisher_neg_constraints)\n",
    "inner_merged = pd.merge(publisher_pos_constraints, publisher_neg_constraints)\n",
    "inner_merged = pd.merge(inner_merged, user_neg_constraints)\n",
    "inner_merged = pd.merge(inner_merged, user_pos_constraints)\n",
    "totalConstraints = inner_merged[\"weightedConstraintsRule3\"] + inner_merged[\"weightedConstraintsRule4\"] + inner_merged[\"weightedConstraintsRule5\"] + inner_merged[\"weightedConstraintsRule6\"] \n",
    "inner_merged[\"UserConstraintPercentage\"] = (inner_merged[\"weightedConstraintsRule5\"] + inner_merged[\"weightedConstraintsRule6\"]) / totalConstraints * 100\n",
    "inner_merged[\"PublisherConstraintPercentage\"] = (inner_merged[\"weightedConstraintsRule3\"] + inner_merged[\"weightedConstraintsRule4\"]) / totalConstraints * 100\n",
    "print(inner_merged.head())\n",
    "inner_merged = inner_merged.drop(columns=['weightedConstraintsRule3', 'weightedConstraintsRule4', 'weightedConstraintsRule5', 'weightedConstraintsRule6'])\n",
    "inner_merged.to_csv(\"newsConstraints.csv\")\n"
   ]
  }
 ],
 "metadata": {
  "kernelspec": {
   "display_name": "Python 3",
   "language": "python",
   "name": "python3"
  },
  "language_info": {
   "codemirror_mode": {
    "name": "ipython",
    "version": 3
   },
   "file_extension": ".py",
   "mimetype": "text/x-python",
   "name": "python",
   "nbconvert_exporter": "python",
   "pygments_lexer": "ipython3",
   "version": "3.11.2"
  },
  "orig_nbformat": 4,
  "vscode": {
   "interpreter": {
    "hash": "aee8b7b246df8f9039afb4144a1f6fd8d2ca17a180786b69acc140d282b71a49"
   }
  }
 },
 "nbformat": 4,
 "nbformat_minor": 2
}
